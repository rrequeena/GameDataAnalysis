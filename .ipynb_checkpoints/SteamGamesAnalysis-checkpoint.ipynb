{
 "cells": [
  {
   "cell_type": "markdown",
   "id": "079a2795-8bde-4a6c-aad6-1106fcc6965b",
   "metadata": {},
   "source": [
    "# Steam Games Analysis"
   ]
  },
  {
   "cell_type": "markdown",
   "id": "55a5e11f-a6a0-445b-bb7a-3437bff7121c",
   "metadata": {},
   "source": [
    "## Load Data from .CSV source\n",
    "\n",
    "Data was collected from: [Kaggle](https://www.kaggle.com/connorwynkoop/steam-monthly-player-data)"
   ]
  },
  {
   "cell_type": "code",
   "execution_count": 1,
   "id": "5bf0cb1c-250c-4c9c-8773-d030927285e3",
   "metadata": {},
   "outputs": [
    {
     "data": {
      "text/html": [
       "<div>\n",
       "<style scoped>\n",
       "    .dataframe tbody tr th:only-of-type {\n",
       "        vertical-align: middle;\n",
       "    }\n",
       "\n",
       "    .dataframe tbody tr th {\n",
       "        vertical-align: top;\n",
       "    }\n",
       "\n",
       "    .dataframe thead th {\n",
       "        text-align: right;\n",
       "    }\n",
       "</style>\n",
       "<table border=\"1\" class=\"dataframe\">\n",
       "  <thead>\n",
       "    <tr style=\"text-align: right;\">\n",
       "      <th></th>\n",
       "      <th>Name</th>\n",
       "      <th>Month</th>\n",
       "      <th>Avg. Players</th>\n",
       "      <th>Gain</th>\n",
       "      <th>% Gain</th>\n",
       "      <th>Peak Players</th>\n",
       "    </tr>\n",
       "  </thead>\n",
       "  <tbody>\n",
       "    <tr>\n",
       "      <th>125025</th>\n",
       "      <td>Virtua Tennis 4</td>\n",
       "      <td>Dec-20</td>\n",
       "      <td>1.32</td>\n",
       "      <td>-0.04</td>\n",
       "      <td>-3.06%</td>\n",
       "      <td>10</td>\n",
       "    </tr>\n",
       "    <tr>\n",
       "      <th>418960</th>\n",
       "      <td>Bard's Gold</td>\n",
       "      <td>Mar-20</td>\n",
       "      <td>1.08</td>\n",
       "      <td>0.09</td>\n",
       "      <td>9.43%</td>\n",
       "      <td>12</td>\n",
       "    </tr>\n",
       "    <tr>\n",
       "      <th>191181</th>\n",
       "      <td>Armada 2526 Gold Edition</td>\n",
       "      <td>Oct-20</td>\n",
       "      <td>2.74</td>\n",
       "      <td>0.7</td>\n",
       "      <td>34.51%</td>\n",
       "      <td>10</td>\n",
       "    </tr>\n",
       "    <tr>\n",
       "      <th>245572</th>\n",
       "      <td>Castle In The Darkness</td>\n",
       "      <td>Oct-16</td>\n",
       "      <td>3.49</td>\n",
       "      <td>-0.13</td>\n",
       "      <td>-3.71%</td>\n",
       "      <td>11</td>\n",
       "    </tr>\n",
       "    <tr>\n",
       "      <th>594064</th>\n",
       "      <td>Rescue your chickens</td>\n",
       "      <td>Jan-17</td>\n",
       "      <td>6.12</td>\n",
       "      <td>6.02</td>\n",
       "      <td>5831.84%</td>\n",
       "      <td>388</td>\n",
       "    </tr>\n",
       "  </tbody>\n",
       "</table>\n",
       "</div>"
      ],
      "text/plain": [
       "                            Name   Month  Avg. Players   Gain    % Gain  \\\n",
       "125025           Virtua Tennis 4  Dec-20          1.32  -0.04    -3.06%   \n",
       "418960               Bard's Gold  Mar-20          1.08   0.09     9.43%   \n",
       "191181  Armada 2526 Gold Edition  Oct-20          2.74    0.7    34.51%   \n",
       "245572    Castle In The Darkness  Oct-16          3.49  -0.13    -3.71%   \n",
       "594064      Rescue your chickens  Jan-17          6.12   6.02  5831.84%   \n",
       "\n",
       "        Peak Players  \n",
       "125025            10  \n",
       "418960            12  \n",
       "191181            10  \n",
       "245572            11  \n",
       "594064           388  "
      ]
     },
     "metadata": {},
     "output_type": "display_data"
    }
   ],
   "source": [
    "import pandas as pd\n",
    "import matplotlib.pyplot as plt\n",
    "import seaborn as sns\n",
    "import numpy as np\n",
    "import warnings\n",
    "warnings.filterwarnings('ignore')\n",
    "\n",
    "# Load data\n",
    "games_df = pd.read_csv(\"AllSteamData.csv\")\n",
    "display(games_df.sample(5))"
   ]
  },
  {
   "cell_type": "markdown",
   "id": "dbef62d4-16b7-4d0d-a39c-eefed2aa5a90",
   "metadata": {},
   "source": [
    "**Name**: It's the game name.\n",
    "\n",
    "**Month**: Month and Year the data corresponds to.\n",
    "\n",
    "**Avg. Players**: Average Players per month.\n",
    "\n",
    "**Gain**: Change from previous month.\n",
    "\n",
    "**% Gain**: Percent change from previous month.\n",
    "\n",
    "**Peak Players**: Peak players for that month."
   ]
  },
  {
   "cell_type": "markdown",
   "id": "88bd3f57-f001-42e7-acaa-175dec747d7e",
   "metadata": {},
   "source": [
    "### Data cleaning"
   ]
  },
  {
   "cell_type": "markdown",
   "id": "c28ebaea-44d5-49e7-9b97-86fc2152388f",
   "metadata": {},
   "source": [
    "Let's check for missing values on our dataset."
   ]
  },
  {
   "cell_type": "code",
   "execution_count": 2,
   "id": "e4408d57-d183-46a0-b6b8-aa0ce304130e",
   "metadata": {},
   "outputs": [
    {
     "name": "stdout",
     "output_type": "stream",
     "text": [
      "<class 'pandas.core.frame.DataFrame'>\n",
      "RangeIndex: 878175 entries, 0 to 878174\n",
      "Data columns (total 6 columns):\n",
      " #   Column        Non-Null Count   Dtype  \n",
      "---  ------        --------------   -----  \n",
      " 0   Name          878175 non-null  object \n",
      " 1   Month         878175 non-null  object \n",
      " 2   Avg. Players  878175 non-null  float64\n",
      " 3   Gain          867341 non-null  object \n",
      " 4   % Gain        867341 non-null  object \n",
      " 5   Peak Players  878175 non-null  int64  \n",
      "dtypes: float64(1), int64(1), object(4)\n",
      "memory usage: 40.2+ MB\n"
     ]
    }
   ],
   "source": [
    "games_df.info()"
   ]
  },
  {
   "cell_type": "markdown",
   "id": "9ddf14b8-19a3-4bd1-b8fd-856ada205fce",
   "metadata": {},
   "source": [
    "As we can see, there are some missing values in 3 of our columns, but also we have some erroneous data in our columns."
   ]
  },
  {
   "cell_type": "code",
   "execution_count": 3,
   "id": "e5652487-fd46-432a-b672-3456935e26f8",
   "metadata": {},
   "outputs": [
    {
     "name": "stdout",
     "output_type": "stream",
     "text": [
      "=== For Name ===\n",
      "Sid Meier's Civilization IV              224\n",
      "S.T.A.L.K.E.R.: Shadow of Chernobyl      224\n",
      "Grand Theft Auto: San Andreas            224\n",
      "Grand Theft Auto: Vice City              224\n",
      "Sid Meier's Civilization IV: Warlords    224\n",
      "                                        ... \n",
      "Dark Abyss                                 1\n",
      "Straight Battler VI                        1\n",
      "Stoneshard - Supporter Pack                1\n",
      "The Sperminator: Rescuing Tzar Vlad        1\n",
      "Outbreak Island Demo                       1\n",
      "Name: Name, Length: 38164, dtype: int64\n",
      "=== For Month ===\n",
      "Last 30 Days    38293\n",
      "Aug-19          15865\n",
      "Apr-19          15633\n",
      "Jun-19          15044\n",
      "Jul-19          14681\n",
      "                ...  \n",
      "Nov-12           1872\n",
      "Oct-12           1808\n",
      "Sep-12           1734\n",
      "Aug-12           1679\n",
      "Jul-12           1620\n",
      "Name: Month, Length: 112, dtype: int64\n",
      "=== For Avg. Players ===\n",
      "0.00      35454\n",
      "0.01      20002\n",
      "0.02      12067\n",
      "0.03      11197\n",
      "0.04       9774\n",
      "          ...  \n",
      "576.57        1\n",
      "263.03        1\n",
      "225.50        1\n",
      "191.48        1\n",
      "326.73        1\n",
      "Name: Avg. Players, Length: 71309, dtype: int64\n",
      "=== For Gain ===\n",
      "0          36366\n",
      "-          27459\n",
      "-0.01      16323\n",
      "0.01       15099\n",
      "-0.02      12880\n",
      "           ...  \n",
      "209.99         1\n",
      "88.81          1\n",
      "4630.3         1\n",
      "1244.42        1\n",
      "-94.1          1\n",
      "Name: Gain, Length: 49198, dtype: int64\n",
      "=== For % Gain ===\n",
      "-           27459\n",
      "NaN%        13051\n",
      "-100.00%     9585\n",
      "Inf%         3237\n",
      "0.00%         337\n",
      "            ...  \n",
      "418.10%         1\n",
      "698.53%         1\n",
      "6219.29%        1\n",
      "472.53%         1\n",
      "334.66%         1\n",
      "Name: % Gain, Length: 58577, dtype: int64\n",
      "=== For Peak Players ===\n",
      "1         73994\n",
      "2         70025\n",
      "3         57305\n",
      "4         45317\n",
      "5         36799\n",
      "          ...  \n",
      "16647         1\n",
      "19317         1\n",
      "18605         1\n",
      "24934         1\n",
      "102916        1\n",
      "Name: Peak Players, Length: 14580, dtype: int64\n"
     ]
    }
   ],
   "source": [
    "for c in games_df.columns:\n",
    "    print(f\"=== For {c} ===\")\n",
    "    print(games_df[c].value_counts())"
   ]
  },
  {
   "cell_type": "markdown",
   "id": "7950c16e-3da2-4801-ab7c-be7ce66107f8",
   "metadata": {},
   "source": [
    "This dataset has some erroneous rows; for example, in the Month column, there are 38293 rows with the \"Last 30 Days\" value which we can't analyze, so that rows will be dropped. Same for the Gain column, which has \"-\" values that mean nothing, as this value doesn't represent a large amount of data, it will be dropped."
   ]
  },
  {
   "cell_type": "code",
   "execution_count": 4,
   "id": "12fe7e3f-ff7e-416a-9dbf-78f113837bad",
   "metadata": {},
   "outputs": [],
   "source": [
    "to_analyze = games_df[(games_df[\"Gain\"] != '-') & (games_df[\"% Gain\"] != '-') & (games_df[\"Month\"] != \"Last 30 Days\")]"
   ]
  },
  {
   "cell_type": "code",
   "execution_count": 5,
   "id": "16b8079a-df58-4b40-8baf-aa433044dcca",
   "metadata": {},
   "outputs": [
    {
     "name": "stdout",
     "output_type": "stream",
     "text": [
      "<class 'pandas.core.frame.DataFrame'>\n",
      "Int64Index: 812423 entries, 1 to 877588\n",
      "Data columns (total 6 columns):\n",
      " #   Column        Non-Null Count   Dtype  \n",
      "---  ------        --------------   -----  \n",
      " 0   Name          812423 non-null  object \n",
      " 1   Month         812423 non-null  object \n",
      " 2   Avg. Players  812423 non-null  float64\n",
      " 3   Gain          812423 non-null  float64\n",
      " 4   % Gain        812423 non-null  float64\n",
      " 5   Peak Players  812423 non-null  int64  \n",
      "dtypes: float64(3), int64(1), object(2)\n",
      "memory usage: 43.4+ MB\n"
     ]
    }
   ],
   "source": [
    "# Transform data types\n",
    "to_analyze.loc[:, \"Gain\"] = pd.to_numeric(to_analyze[\"Gain\"])\n",
    "to_analyze.loc[:, \"% Gain\"] = to_analyze[\"% Gain\"].apply(lambda x: x.replace('%', ''))\n",
    "to_analyze.loc[:, \"% Gain\"] = to_analyze[\"% Gain\"].apply(lambda x: 0 if 'NaN' in x else x) # Fill NaN with 0\n",
    "perc_gain_median = to_analyze[\"% Gain\"].median()\n",
    "to_analyze.loc[:, \"% Gain\"] = to_analyze[\"% Gain\"].apply(lambda x: perc_gain_median if x == 0 else x)\n",
    "to_analyze.loc[:, \"% Gain\"] = pd.to_numeric(to_analyze[\"% Gain\"])\n",
    "to_analyze.info()"
   ]
  },
  {
   "cell_type": "markdown",
   "id": "d2e2114b-3f94-4a17-a9ab-7f29ee13b6b9",
   "metadata": {},
   "source": [
    "## Exploratory Data Analysis"
   ]
  },
  {
   "cell_type": "markdown",
   "id": "dc6ea2a9-0b7c-41ed-9b5a-6e55be3b144e",
   "metadata": {},
   "source": [
    "To start with EDA, let's make some other changes to analyze better changing the DataType of Month and separating it."
   ]
  },
  {
   "cell_type": "code",
   "execution_count": 6,
   "id": "f526cde3-25a4-41c6-b578-9a21945ed722",
   "metadata": {},
   "outputs": [],
   "source": [
    "# Split Month column in Only Month and Day\n",
    "def split_month(dataframe, column: str, data: str):\n",
    "    \"\"\"\n",
    "    To get only month or only day from a dataframe column\n",
    "    Parameters:\n",
    "    -----------\n",
    "    column: str\n",
    "        Column name\n",
    "    data: str\n",
    "        If you want the month or the day\n",
    "    Returns:\n",
    "    --------\n",
    "    new_column: pandas.DataFrame.columns\n",
    "        The new column with the extracted data\n",
    "    \"\"\"\n",
    "    new_column = dataframe[column].apply(lambda x: x.split('-')[0] if data == \"month\" else x.split('-')[1])\n",
    "    return new_column"
   ]
  },
  {
   "cell_type": "code",
   "execution_count": 7,
   "id": "702ba17c-3572-4523-9307-f153facc8631",
   "metadata": {},
   "outputs": [
    {
     "data": {
      "text/html": [
       "<div>\n",
       "<style scoped>\n",
       "    .dataframe tbody tr th:only-of-type {\n",
       "        vertical-align: middle;\n",
       "    }\n",
       "\n",
       "    .dataframe tbody tr th {\n",
       "        vertical-align: top;\n",
       "    }\n",
       "\n",
       "    .dataframe thead th {\n",
       "        text-align: right;\n",
       "    }\n",
       "</style>\n",
       "<table border=\"1\" class=\"dataframe\">\n",
       "  <thead>\n",
       "    <tr style=\"text-align: right;\">\n",
       "      <th></th>\n",
       "      <th>Name</th>\n",
       "      <th>Month</th>\n",
       "      <th>Avg. Players</th>\n",
       "      <th>Gain</th>\n",
       "      <th>% Gain</th>\n",
       "      <th>Peak Players</th>\n",
       "      <th>Only Month</th>\n",
       "      <th>Only Day</th>\n",
       "    </tr>\n",
       "  </thead>\n",
       "  <tbody>\n",
       "    <tr>\n",
       "      <th>329776</th>\n",
       "      <td>Darkstone</td>\n",
       "      <td>Apr-17</td>\n",
       "      <td>1.90</td>\n",
       "      <td>-0.24</td>\n",
       "      <td>-11.13</td>\n",
       "      <td>8</td>\n",
       "      <td>Apr</td>\n",
       "      <td>17</td>\n",
       "    </tr>\n",
       "    <tr>\n",
       "      <th>429622</th>\n",
       "      <td>The chronicles of Emerland. Solitaire.</td>\n",
       "      <td>Mar-19</td>\n",
       "      <td>2.52</td>\n",
       "      <td>-1.10</td>\n",
       "      <td>-30.45</td>\n",
       "      <td>10</td>\n",
       "      <td>Mar</td>\n",
       "      <td>19</td>\n",
       "    </tr>\n",
       "    <tr>\n",
       "      <th>525904</th>\n",
       "      <td>You're Next</td>\n",
       "      <td>Feb-19</td>\n",
       "      <td>0.01</td>\n",
       "      <td>0.00</td>\n",
       "      <td>12.23</td>\n",
       "      <td>1</td>\n",
       "      <td>Feb</td>\n",
       "      <td>19</td>\n",
       "    </tr>\n",
       "    <tr>\n",
       "      <th>64267</th>\n",
       "      <td>Imperium Romanum: Gold Edition Demo</td>\n",
       "      <td>Sep-16</td>\n",
       "      <td>0.13</td>\n",
       "      <td>-0.12</td>\n",
       "      <td>-47.14</td>\n",
       "      <td>2</td>\n",
       "      <td>Sep</td>\n",
       "      <td>16</td>\n",
       "    </tr>\n",
       "    <tr>\n",
       "      <th>599859</th>\n",
       "      <td>Equilibrium Of Divinity</td>\n",
       "      <td>Nov-17</td>\n",
       "      <td>0.82</td>\n",
       "      <td>-0.74</td>\n",
       "      <td>-47.22</td>\n",
       "      <td>4</td>\n",
       "      <td>Nov</td>\n",
       "      <td>17</td>\n",
       "    </tr>\n",
       "  </tbody>\n",
       "</table>\n",
       "</div>"
      ],
      "text/plain": [
       "                                          Name   Month  Avg. Players  Gain  \\\n",
       "329776                               Darkstone  Apr-17          1.90 -0.24   \n",
       "429622  The chronicles of Emerland. Solitaire.  Mar-19          2.52 -1.10   \n",
       "525904                             You're Next  Feb-19          0.01  0.00   \n",
       "64267      Imperium Romanum: Gold Edition Demo  Sep-16          0.13 -0.12   \n",
       "599859                 Equilibrium Of Divinity  Nov-17          0.82 -0.74   \n",
       "\n",
       "        % Gain  Peak Players Only Month Only Day  \n",
       "329776  -11.13             8        Apr       17  \n",
       "429622  -30.45            10        Mar       19  \n",
       "525904   12.23             1        Feb       19  \n",
       "64267   -47.14             2        Sep       16  \n",
       "599859  -47.22             4        Nov       17  "
      ]
     },
     "execution_count": 7,
     "metadata": {},
     "output_type": "execute_result"
    }
   ],
   "source": [
    "# Getting months and day number in different columns\n",
    "to_analyze.loc[:, \"Only Month\"] = split_month(to_analyze, \"Month\", \"month\").str.capitalize()\n",
    "to_analyze.loc[:, \"Only Day\"] = split_month(to_analyze, \"Month\", \"day\")\n",
    "to_analyze.sample(5)"
   ]
  },
  {
   "cell_type": "code",
   "execution_count": 8,
   "id": "1386a03d-bddf-401d-a59c-4e682edd38b1",
   "metadata": {},
   "outputs": [
    {
     "data": {
      "text/html": [
       "<div>\n",
       "<style scoped>\n",
       "    .dataframe tbody tr th:only-of-type {\n",
       "        vertical-align: middle;\n",
       "    }\n",
       "\n",
       "    .dataframe tbody tr th {\n",
       "        vertical-align: top;\n",
       "    }\n",
       "\n",
       "    .dataframe thead th {\n",
       "        text-align: right;\n",
       "    }\n",
       "</style>\n",
       "<table border=\"1\" class=\"dataframe\">\n",
       "  <thead>\n",
       "    <tr style=\"text-align: right;\">\n",
       "      <th></th>\n",
       "      <th>Name</th>\n",
       "      <th>Month</th>\n",
       "      <th>Avg. Players</th>\n",
       "      <th>Gain</th>\n",
       "      <th>% Gain</th>\n",
       "      <th>Peak Players</th>\n",
       "      <th>Only Month</th>\n",
       "      <th>Only Day</th>\n",
       "      <th>Month Number</th>\n",
       "    </tr>\n",
       "  </thead>\n",
       "  <tbody>\n",
       "    <tr>\n",
       "      <th>346137</th>\n",
       "      <td>Axiom Verge</td>\n",
       "      <td>Oct-17</td>\n",
       "      <td>29.93</td>\n",
       "      <td>6.34</td>\n",
       "      <td>26.85</td>\n",
       "      <td>102</td>\n",
       "      <td>Oct</td>\n",
       "      <td>17</td>\n",
       "      <td>10</td>\n",
       "    </tr>\n",
       "    <tr>\n",
       "      <th>345472</th>\n",
       "      <td>Why So Evil</td>\n",
       "      <td>Apr-20</td>\n",
       "      <td>28.48</td>\n",
       "      <td>-53.35</td>\n",
       "      <td>-65.20</td>\n",
       "      <td>514</td>\n",
       "      <td>Apr</td>\n",
       "      <td>20</td>\n",
       "      <td>4</td>\n",
       "    </tr>\n",
       "    <tr>\n",
       "      <th>206713</th>\n",
       "      <td>Bionic Dues</td>\n",
       "      <td>Nov-15</td>\n",
       "      <td>28.26</td>\n",
       "      <td>-122.91</td>\n",
       "      <td>-81.30</td>\n",
       "      <td>70</td>\n",
       "      <td>Nov</td>\n",
       "      <td>15</td>\n",
       "      <td>11</td>\n",
       "    </tr>\n",
       "    <tr>\n",
       "      <th>416511</th>\n",
       "      <td>Animated Puzzles</td>\n",
       "      <td>Dec-18</td>\n",
       "      <td>0.97</td>\n",
       "      <td>-0.14</td>\n",
       "      <td>-12.45</td>\n",
       "      <td>5</td>\n",
       "      <td>Dec</td>\n",
       "      <td>18</td>\n",
       "      <td>12</td>\n",
       "    </tr>\n",
       "    <tr>\n",
       "      <th>27859</th>\n",
       "      <td>Conflict: Denied Ops Demo</td>\n",
       "      <td>May-18</td>\n",
       "      <td>0.08</td>\n",
       "      <td>-0.02</td>\n",
       "      <td>-20.76</td>\n",
       "      <td>1</td>\n",
       "      <td>May</td>\n",
       "      <td>18</td>\n",
       "      <td>5</td>\n",
       "    </tr>\n",
       "  </tbody>\n",
       "</table>\n",
       "</div>"
      ],
      "text/plain": [
       "                             Name   Month  Avg. Players    Gain  % Gain  \\\n",
       "346137                Axiom Verge  Oct-17         29.93    6.34   26.85   \n",
       "345472                Why So Evil  Apr-20         28.48  -53.35  -65.20   \n",
       "206713                Bionic Dues  Nov-15         28.26 -122.91  -81.30   \n",
       "416511           Animated Puzzles  Dec-18          0.97   -0.14  -12.45   \n",
       "27859   Conflict: Denied Ops Demo  May-18          0.08   -0.02  -20.76   \n",
       "\n",
       "        Peak Players Only Month Only Day  Month Number  \n",
       "346137           102        Oct       17            10  \n",
       "345472           514        Apr       20             4  \n",
       "206713            70        Nov       15            11  \n",
       "416511             5        Dec       18            12  \n",
       "27859              1        May       18             5  "
      ]
     },
     "execution_count": 8,
     "metadata": {},
     "output_type": "execute_result"
    }
   ],
   "source": [
    "to_analyze[\"Month Number\"] = pd.to_datetime(to_analyze[\"Only Month\"], format=\"%b\", errors=\"coerce\").dt.month\n",
    "to_analyze.sample(5)"
   ]
  },
  {
   "cell_type": "code",
   "execution_count": 9,
   "id": "2f447ff2-2273-4f60-871e-299cb267a62a",
   "metadata": {},
   "outputs": [],
   "source": [
    "def bar_and_line_plot(column1, column2, dataframe = []):\n",
    "    \"\"\"\n",
    "    Function to create a bar plot with a line on the top of each bar.\n",
    "    Parameters:\n",
    "    -----------\n",
    "    dataframe: pandas.DataFrame\n",
    "        DataFrame where we will extract data\n",
    "    column1: str\n",
    "        Column 1 is the column that will be in the x axis.\n",
    "    column2: str\n",
    "        Column 2 is the column that will be in the y axis.\n",
    "    Returns:\n",
    "    -------\n",
    "    fig:\n",
    "        A matplotlib figure to show the graph\n",
    "    \"\"\"\n",
    "    fig, ax1 = plt.subplots(figsize=(12, 6))\n",
    "    sns.lineplot(x=column1, y=column2, data=dataframe, marker='o', sort=False, ax=ax1)\n",
    "    sns.barplot(data=dataframe, x=column1, y=column2, alpha=0.5, ax=ax1)\n",
    "    plt.title(\"General Avg. Players by Month\")\n",
    "    plt.xlabel(\"Month\")\n",
    "    plt.ylabel(\"Avg. Players\")\n",
    "    return fig"
   ]
  },
  {
   "cell_type": "markdown",
   "id": "fa8bbb3b-c818-45d6-88d7-2ad79b99b08a",
   "metadata": {},
   "source": [
    "### General Avg. Players by Month\n",
    "\n"
   ]
  },
  {
   "cell_type": "code",
   "execution_count": 10,
   "id": "2215cc05-f698-4e31-9f5f-146df37056d7",
   "metadata": {},
   "outputs": [
    {
     "data": {
      "image/png": "[encoded data removed]",
      "text/plain": [
       "<Figure size 864x432 with 1 Axes>"
      ]
     },
     "metadata": {
      "needs_background": "light"
     },
     "output_type": "display_data"
    }
   ],
   "source": [
    "# Getting general avg. data for each month for every game listed\n",
    "months = to_analyze[\"Only Month\"].value_counts().keys().to_list()\n",
    "month_n = []\n",
    "general_avg_players = []\n",
    "for m in months:\n",
    "    current_avg = to_analyze[to_analyze[\"Only Month\"] == m][\"Avg. Players\"].median()\n",
    "    current_month_number = to_analyze[to_analyze[\"Only Month\"] == m][\"Month Number\"].value_counts().keys().to_list()[0]\n",
    "    month_n.append(current_month_number)\n",
    "    general_avg_players.append(current_avg)\n",
    "# Save in DataFrame\n",
    "months_and_average_gen = pd.DataFrame()\n",
    "months_and_average_gen[\"Month\"] = months\n",
    "months_and_average_gen[\"Month n\"] = month_n\n",
    "months_and_average_gen[\"Gen. Avg.\"] = general_avg_players\n",
    "months_and_average_gen.sort_values(\"Month n\", inplace=True)\n",
    "# Call the graph function\n",
    "general_graph = bar_and_line_plot(\"Month\", \"Gen. Avg.\", months_and_average_gen)"
   ]
  },
  {
   "cell_type": "code",
   "execution_count": null,
   "id": "6a1e4fa6-e7f0-4e93-a54d-fe0a5d28f7e1",
   "metadata": {},
   "outputs": [],
   "source": []
  },
  {
   "cell_type": "code",
   "execution_count": null,
   "id": "2c7ce3aa-44d2-49cd-81b2-3ca076bfc224",
   "metadata": {},
   "outputs": [],
   "source": []
  },
  {
   "cell_type": "code",
   "execution_count": null,
   "id": "24af68cd-0da0-44d5-b76c-3b4d48943674",
   "metadata": {},
   "outputs": [],
   "source": []
  }
 ],
 "metadata": {
  "kernelspec": {
   "display_name": "Python 3 (ipykernel)",
   "language": "python",
   "name": "python3"
  },
  "language_info": {
   "codemirror_mode": {
    "name": "ipython",
    "version": 3
   },
   "file_extension": ".py",
   "mimetype": "text/x-python",
   "name": "python",
   "nbconvert_exporter": "python",
   "pygments_lexer": "ipython3",
   "version": "3.8.10"
  }
 },
 "nbformat": 4,
 "nbformat_minor": 5
}
